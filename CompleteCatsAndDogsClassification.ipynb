{
  "cells": [
    {
      "cell_type": "markdown",
      "id": "9048cf8b",
      "metadata": {
        "id": "9048cf8b"
      },
      "source": [
        "---\n",
        "<center><h1>Cats/Dogs classification using a reduced training dataset </h1></center>\n",
        "\n",
        "---"
      ]
    },
    {
      "cell_type": "markdown",
      "source": [
        "<p align=\"justify\">\n",
        "we’ll focus on the issue of cats/dogs classification using convolutional neural networks\n",
        "(CNN) trained with very little data (common situation encountered in practical application).\n",
        "As a practical example, we’ll focus on classifying images into categories: dogs or cats, using a dataset\n",
        "with 4.000 pictures (2.000 for each class). The system will use 2.000 pictures for training, 1.000 for\n",
        "validation and 1.000 for testing.\n",
        "\n",
        "\n",
        "with data augmentation, transfer learning and a fine-tuning\n",
        "</p>"
      ],
      "metadata": {
        "id": "XUj3az8W74E6"
      },
      "id": "XUj3az8W74E6"
    },
    {
      "cell_type": "code",
      "source": [
        "!pip install tensorflow"
      ],
      "metadata": {
        "id": "uKPRUraRIpvV",
        "colab": {
          "base_uri": "https://localhost:8080/"
        },
        "outputId": "f850e2a4-c0ce-4ce5-a4b5-c8262a779cc8"
      },
      "id": "uKPRUraRIpvV",
      "execution_count": null,
      "outputs": [
        {
          "output_type": "stream",
          "name": "stdout",
          "text": [
            "Requirement already satisfied: tensorflow in /usr/local/lib/python3.11/dist-packages (2.18.0)\n",
            "Requirement already satisfied: absl-py>=1.0.0 in /usr/local/lib/python3.11/dist-packages (from tensorflow) (1.4.0)\n",
            "Requirement already satisfied: astunparse>=1.6.0 in /usr/local/lib/python3.11/dist-packages (from tensorflow) (1.6.3)\n",
            "Requirement already satisfied: flatbuffers>=24.3.25 in /usr/local/lib/python3.11/dist-packages (from tensorflow) (25.2.10)\n",
            "Requirement already satisfied: gast!=0.5.0,!=0.5.1,!=0.5.2,>=0.2.1 in /usr/local/lib/python3.11/dist-packages (from tensorflow) (0.6.0)\n",
            "Requirement already satisfied: google-pasta>=0.1.1 in /usr/local/lib/python3.11/dist-packages (from tensorflow) (0.2.0)\n",
            "Requirement already satisfied: libclang>=13.0.0 in /usr/local/lib/python3.11/dist-packages (from tensorflow) (18.1.1)\n",
            "Requirement already satisfied: opt-einsum>=2.3.2 in /usr/local/lib/python3.11/dist-packages (from tensorflow) (3.4.0)\n",
            "Requirement already satisfied: packaging in /usr/local/lib/python3.11/dist-packages (from tensorflow) (24.2)\n",
            "Requirement already satisfied: protobuf!=4.21.0,!=4.21.1,!=4.21.2,!=4.21.3,!=4.21.4,!=4.21.5,<6.0.0dev,>=3.20.3 in /usr/local/lib/python3.11/dist-packages (from tensorflow) (5.29.4)\n",
            "Requirement already satisfied: requests<3,>=2.21.0 in /usr/local/lib/python3.11/dist-packages (from tensorflow) (2.32.3)\n",
            "Requirement already satisfied: setuptools in /usr/local/lib/python3.11/dist-packages (from tensorflow) (75.2.0)\n",
            "Requirement already satisfied: six>=1.12.0 in /usr/local/lib/python3.11/dist-packages (from tensorflow) (1.17.0)\n",
            "Requirement already satisfied: termcolor>=1.1.0 in /usr/local/lib/python3.11/dist-packages (from tensorflow) (3.1.0)\n",
            "Requirement already satisfied: typing-extensions>=3.6.6 in /usr/local/lib/python3.11/dist-packages (from tensorflow) (4.13.2)\n",
            "Requirement already satisfied: wrapt>=1.11.0 in /usr/local/lib/python3.11/dist-packages (from tensorflow) (1.17.2)\n",
            "Requirement already satisfied: grpcio<2.0,>=1.24.3 in /usr/local/lib/python3.11/dist-packages (from tensorflow) (1.71.0)\n",
            "Requirement already satisfied: tensorboard<2.19,>=2.18 in /usr/local/lib/python3.11/dist-packages (from tensorflow) (2.18.0)\n",
            "Requirement already satisfied: keras>=3.5.0 in /usr/local/lib/python3.11/dist-packages (from tensorflow) (3.8.0)\n",
            "Requirement already satisfied: numpy<2.1.0,>=1.26.0 in /usr/local/lib/python3.11/dist-packages (from tensorflow) (2.0.2)\n",
            "Requirement already satisfied: h5py>=3.11.0 in /usr/local/lib/python3.11/dist-packages (from tensorflow) (3.13.0)\n",
            "Requirement already satisfied: ml-dtypes<0.5.0,>=0.4.0 in /usr/local/lib/python3.11/dist-packages (from tensorflow) (0.4.1)\n",
            "Requirement already satisfied: tensorflow-io-gcs-filesystem>=0.23.1 in /usr/local/lib/python3.11/dist-packages (from tensorflow) (0.37.1)\n",
            "Requirement already satisfied: wheel<1.0,>=0.23.0 in /usr/local/lib/python3.11/dist-packages (from astunparse>=1.6.0->tensorflow) (0.45.1)\n",
            "Requirement already satisfied: rich in /usr/local/lib/python3.11/dist-packages (from keras>=3.5.0->tensorflow) (13.9.4)\n",
            "Requirement already satisfied: namex in /usr/local/lib/python3.11/dist-packages (from keras>=3.5.0->tensorflow) (0.0.9)\n",
            "Requirement already satisfied: optree in /usr/local/lib/python3.11/dist-packages (from keras>=3.5.0->tensorflow) (0.15.0)\n",
            "Requirement already satisfied: charset-normalizer<4,>=2 in /usr/local/lib/python3.11/dist-packages (from requests<3,>=2.21.0->tensorflow) (3.4.2)\n",
            "Requirement already satisfied: idna<4,>=2.5 in /usr/local/lib/python3.11/dist-packages (from requests<3,>=2.21.0->tensorflow) (3.10)\n",
            "Requirement already satisfied: urllib3<3,>=1.21.1 in /usr/local/lib/python3.11/dist-packages (from requests<3,>=2.21.0->tensorflow) (2.4.0)\n",
            "Requirement already satisfied: certifi>=2017.4.17 in /usr/local/lib/python3.11/dist-packages (from requests<3,>=2.21.0->tensorflow) (2025.4.26)\n",
            "Requirement already satisfied: markdown>=2.6.8 in /usr/local/lib/python3.11/dist-packages (from tensorboard<2.19,>=2.18->tensorflow) (3.8)\n",
            "Requirement already satisfied: tensorboard-data-server<0.8.0,>=0.7.0 in /usr/local/lib/python3.11/dist-packages (from tensorboard<2.19,>=2.18->tensorflow) (0.7.2)\n",
            "Requirement already satisfied: werkzeug>=1.0.1 in /usr/local/lib/python3.11/dist-packages (from tensorboard<2.19,>=2.18->tensorflow) (3.1.3)\n",
            "Requirement already satisfied: MarkupSafe>=2.1.1 in /usr/local/lib/python3.11/dist-packages (from werkzeug>=1.0.1->tensorboard<2.19,>=2.18->tensorflow) (3.0.2)\n",
            "Requirement already satisfied: markdown-it-py>=2.2.0 in /usr/local/lib/python3.11/dist-packages (from rich->keras>=3.5.0->tensorflow) (3.0.0)\n",
            "Requirement already satisfied: pygments<3.0.0,>=2.13.0 in /usr/local/lib/python3.11/dist-packages (from rich->keras>=3.5.0->tensorflow) (2.19.1)\n",
            "Requirement already satisfied: mdurl~=0.1 in /usr/local/lib/python3.11/dist-packages (from markdown-it-py>=2.2.0->rich->keras>=3.5.0->tensorflow) (0.1.2)\n"
          ]
        }
      ]
    },
    {
      "cell_type": "code",
      "source": [
        "import os\n",
        "import shutil\n",
        "from glob import glob\n",
        "import tensorflow\n",
        "from tensorflow.keras import layers\n",
        "from tensorflow.keras import models\n",
        "#from tensorflow.keras.optimizers import rmsprop_v2\n",
        "from tensorflow.keras.preprocessing.image import ImageDataGenerator\n",
        "from matplotlib import pyplot\n",
        "from tensorflow.keras.applications import VGG16,ResNet50,InceptionV3,Xception,MobileNet\n",
        "from tensorflow.keras.optimizers import RMSprop\n"
      ],
      "metadata": {
        "id": "BJUC9zQG-pzD"
      },
      "id": "BJUC9zQG-pzD",
      "execution_count": null,
      "outputs": []
    },
    {
      "cell_type": "code",
      "source": [
        "from google.colab import drive\n",
        "drive.mount('/content/drive',force_remount=True)"
      ],
      "metadata": {
        "id": "7hsCMmbYtXR1",
        "colab": {
          "base_uri": "https://localhost:8080/"
        },
        "outputId": "1a4e8772-c16b-4d04-95de-7938e9a34694"
      },
      "id": "7hsCMmbYtXR1",
      "execution_count": null,
      "outputs": [
        {
          "output_type": "stream",
          "name": "stdout",
          "text": [
            "Mounted at /content/drive\n"
          ]
        }
      ]
    },
    {
      "cell_type": "code",
      "source": [
        "base_directory = '/content/drive/MyDrive/Kaggle_Cats_And_Dogs_Dataset_Small'\n",
        "\n",
        "\n",
        "train_cats_directory = str(base_directory+'/train/cat/')\n",
        "validation_cats_directory = str(base_directory+'/validation/cat/')\n",
        "test_cats_diretcory = str(base_directory+'/test/cat/')\n",
        "\n",
        "\n",
        "train_dogs_directory = str(base_directory+'/train/dog/')\n",
        "validation_dogs_directory = str(base_directory+'/validation/dog/')\n",
        "test_dogs_diretcory = str(base_directory+'/test/dog/')"
      ],
      "metadata": {
        "id": "VNJ-DWgL965j"
      },
      "id": "VNJ-DWgL965j",
      "execution_count": null,
      "outputs": []
    },
    {
      "cell_type": "code",
      "execution_count": null,
      "id": "6c6811bb",
      "metadata": {
        "id": "6c6811bb",
        "colab": {
          "base_uri": "https://localhost:8080/"
        },
        "outputId": "67f9c308-dacb-4024-96a0-1ba74e60a9f8"
      },
      "outputs": [
        {
          "output_type": "stream",
          "name": "stdout",
          "text": [
            "Total number of CATS used for training =1000\n",
            "Total number of CATS used for validation =500\n",
            "Total number of CATS used for testing =500\n",
            "Total number of DOGS used for training =1000\n",
            "Total number of DOGS used for validation =500\n",
            "Total number of DOGS used for testing =500\n"
          ]
        }
      ],
      "source": [
        "#As a sanitary check verify how many pictures are in each directory\n",
        "print('Total number of CATS used for training ={}'.format(len(os.listdir(train_cats_directory))))\n",
        "print('Total number of CATS used for validation ={}'.format(len(os.listdir(validation_cats_directory))))\n",
        "print('Total number of CATS used for testing ={}'.format(len(os.listdir(test_cats_diretcory))))\n",
        "\n",
        "print('Total number of DOGS used for training ={}'.format(len(os.listdir(train_dogs_directory))))\n",
        "print('Total number of DOGS used for validation ={}'.format(len(os.listdir(validation_dogs_directory))))\n",
        "print('Total number of DOGS used for testing ={}'.format(len(os.listdir(test_dogs_diretcory))))"
      ]
    },
    {
      "cell_type": "markdown",
      "id": "a7b75d18",
      "metadata": {
        "id": "a7b75d18"
      },
      "source": [
        "###Image preprocessing"
      ]
    },
    {
      "cell_type": "code",
      "execution_count": null,
      "id": "5c2f4b94",
      "metadata": {
        "id": "5c2f4b94"
      },
      "outputs": [],
      "source": [
        "import tensorflow as tf\n",
        "\n",
        "def imagePreprocessing(base_directory,img_size=(150, 150)):\n",
        "\n",
        "    #Creation of the image data generators for train and validation\n",
        "    train_directory = base_directory + '/train'\n",
        "    validation_directory = base_directory + '/validation'\n",
        "    test_directory = base_directory + '/test'\n",
        "\n",
        "    train_datagen = ImageDataGenerator(rescale=1./255)\n",
        "    validation_datagen = ImageDataGenerator(rescale=1./255)\n",
        "\n",
        "    train_generator = train_datagen.flow_from_directory(train_directory,target_size = (150, 150), batch_size = 20, class_mode='binary')\n",
        "    validation_generator =validation_datagen.flow_from_directory(validation_directory,target_size = (150,150), batch_size = 20,shuffle=False, class_mode='binary')\n",
        "\n",
        "    #Analyze the output of the train and validation generators\n",
        "    for data_batch, labels_batch in train_generator:\n",
        "        print('Data batch shape in train: ', data_batch.shape)\n",
        "        print('Labels batch shape in train: ', labels_batch.shape)\n",
        "        break\n",
        "    for data_batch, labels_batch in validation_generator:\n",
        "        print('Data batch shape in validation: ', data_batch.shape)\n",
        "        print('Labels batch shape in validation: ', labels_batch.shape)\n",
        "        break\n",
        "\n",
        "    # Convert to tf.data.Dataset for performance boost\n",
        "    train_dataset_gen = tf.data.Dataset.from_generator(\n",
        "        lambda: train_generator,\n",
        "        output_signature=(\n",
        "            tf.TensorSpec(shape=(None, img_size[0], img_size[1], 3), dtype=tf.float32),\n",
        "            tf.TensorSpec(shape=(None,), dtype=tf.float32)\n",
        "        )\n",
        "    ).prefetch(tf.data.AUTOTUNE)\n",
        "\n",
        "    validation_dataset_gen = tf.data.Dataset.from_generator(\n",
        "        lambda: validation_generator,\n",
        "        output_signature=(\n",
        "            tf.TensorSpec(shape=(None, img_size[0], img_size[1], 3), dtype=tf.float32),\n",
        "            tf.TensorSpec(shape=(None,), dtype=tf.float32)\n",
        "        )\n",
        "    ).prefetch(tf.data.AUTOTUNE)\n",
        "\n",
        "    return train_dataset_gen, validation_dataset_gen"
      ]
    },
    {
      "cell_type": "code",
      "source": [
        "train_generator,validation_generator=imagePreprocessing(base_directory)"
      ],
      "metadata": {
        "id": "IdS7aleYo38J",
        "colab": {
          "base_uri": "https://localhost:8080/"
        },
        "outputId": "d687e9dc-9f97-4477-c1d0-9cbfaf49e313"
      },
      "id": "IdS7aleYo38J",
      "execution_count": null,
      "outputs": [
        {
          "output_type": "stream",
          "name": "stdout",
          "text": [
            "Found 2000 images belonging to 2 classes.\n",
            "Found 1000 images belonging to 2 classes.\n",
            "Data batch shape in train:  (20, 150, 150, 3)\n",
            "Labels batch shape in train:  (20,)\n",
            "Data batch shape in validation:  (20, 150, 150, 3)\n",
            "Labels batch shape in validation:  (20,)\n"
          ]
        }
      ]
    },
    {
      "cell_type": "markdown",
      "id": "4db9c856",
      "metadata": {
        "id": "4db9c856"
      },
      "source": [
        "### CNN architecture\n",
        "We will define our model in a function denoted *defineCNNModelFromScratch()*:\n"
      ]
    },
    {
      "cell_type": "code",
      "source": [
        "def defineCNNModelFromScratch():\n",
        "  #Initialize\n",
        "  model = models.Sequential()\n",
        "\n",
        "  #first hidden layer as a convolutional layer\n",
        "  model.add(layers.Conv2D(filters=32, kernel_size=(3, 3), input_shape=(150, 150, 3),activation='relu'))\n",
        "\n",
        "  model.add(layers.MaxPooling2D(pool_size=(2, 2)))\n",
        "\n",
        "  model.add(layers.Conv2D(filters=64, kernel_size=(3, 3), activation='relu'))\n",
        "\n",
        "  model.add(layers.MaxPooling2D(pool_size=(2, 2)))\n",
        "\n",
        "  model.add(layers.Conv2D(filters=128, kernel_size=(3, 3), activation='relu'))\n",
        "\n",
        "  model.add(layers.MaxPooling2D(pool_size=(2, 2)))\n",
        "\n",
        "  model.add(layers.Conv2D(filters=128, kernel_size=(3, 3), activation='relu'))\n",
        "\n",
        "  model.add(layers.MaxPooling2D(pool_size=(2, 2)))\n",
        "\n",
        "  model.add(layers.Flatten())\n",
        "\n",
        "  layers.Dropout(0.5)\n",
        "\n",
        "  model.add(layers.Dense(512, activation='relu'))\n",
        "\n",
        "  model.add(layers.Dense(1, activation='sigmoid'))\n",
        "\n",
        "  #Visualize the network arhitecture (list of layers)\n",
        "  model.summary()\n",
        "\n",
        "\n",
        "  #Compile the model\n",
        "  model.compile(optimizer=RMSprop(learning_rate=0.0001), loss='binary_crossentropy', metrics=['accuracy'])\n",
        "\n",
        "  return model"
      ],
      "metadata": {
        "id": "z4fWW20y11xz"
      },
      "id": "z4fWW20y11xz",
      "execution_count": null,
      "outputs": []
    },
    {
      "cell_type": "code",
      "source": [
        "model = defineCNNModelFromScratch()"
      ],
      "metadata": {
        "id": "E89EszT2pHnh",
        "colab": {
          "base_uri": "https://localhost:8080/",
          "height": 565
        },
        "outputId": "a174ea97-98a1-4480-d6c6-66047fd99207"
      },
      "id": "E89EszT2pHnh",
      "execution_count": null,
      "outputs": [
        {
          "output_type": "stream",
          "name": "stderr",
          "text": [
            "/usr/local/lib/python3.11/dist-packages/keras/src/layers/convolutional/base_conv.py:107: UserWarning: Do not pass an `input_shape`/`input_dim` argument to a layer. When using Sequential models, prefer using an `Input(shape)` object as the first layer in the model instead.\n",
            "  super().__init__(activity_regularizer=activity_regularizer, **kwargs)\n"
          ]
        },
        {
          "output_type": "display_data",
          "data": {
            "text/plain": [
              "\u001b[1mModel: \"sequential\"\u001b[0m\n"
            ],
            "text/html": [
              "<pre style=\"white-space:pre;overflow-x:auto;line-height:normal;font-family:Menlo,'DejaVu Sans Mono',consolas,'Courier New',monospace\"><span style=\"font-weight: bold\">Model: \"sequential\"</span>\n",
              "</pre>\n"
            ]
          },
          "metadata": {}
        },
        {
          "output_type": "display_data",
          "data": {
            "text/plain": [
              "┏━━━━━━━━━━━━━━━━━━━━━━━━━━━━━━━━━┳━━━━━━━━━━━━━━━━━━━━━━━━┳━━━━━━━━━━━━━━━┓\n",
              "┃\u001b[1m \u001b[0m\u001b[1mLayer (type)                   \u001b[0m\u001b[1m \u001b[0m┃\u001b[1m \u001b[0m\u001b[1mOutput Shape          \u001b[0m\u001b[1m \u001b[0m┃\u001b[1m \u001b[0m\u001b[1m      Param #\u001b[0m\u001b[1m \u001b[0m┃\n",
              "┡━━━━━━━━━━━━━━━━━━━━━━━━━━━━━━━━━╇━━━━━━━━━━━━━━━━━━━━━━━━╇━━━━━━━━━━━━━━━┩\n",
              "│ conv2d (\u001b[38;5;33mConv2D\u001b[0m)                 │ (\u001b[38;5;45mNone\u001b[0m, \u001b[38;5;34m148\u001b[0m, \u001b[38;5;34m148\u001b[0m, \u001b[38;5;34m32\u001b[0m)   │           \u001b[38;5;34m896\u001b[0m │\n",
              "├─────────────────────────────────┼────────────────────────┼───────────────┤\n",
              "│ max_pooling2d (\u001b[38;5;33mMaxPooling2D\u001b[0m)    │ (\u001b[38;5;45mNone\u001b[0m, \u001b[38;5;34m74\u001b[0m, \u001b[38;5;34m74\u001b[0m, \u001b[38;5;34m32\u001b[0m)     │             \u001b[38;5;34m0\u001b[0m │\n",
              "├─────────────────────────────────┼────────────────────────┼───────────────┤\n",
              "│ conv2d_1 (\u001b[38;5;33mConv2D\u001b[0m)               │ (\u001b[38;5;45mNone\u001b[0m, \u001b[38;5;34m72\u001b[0m, \u001b[38;5;34m72\u001b[0m, \u001b[38;5;34m64\u001b[0m)     │        \u001b[38;5;34m18,496\u001b[0m │\n",
              "├─────────────────────────────────┼────────────────────────┼───────────────┤\n",
              "│ max_pooling2d_1 (\u001b[38;5;33mMaxPooling2D\u001b[0m)  │ (\u001b[38;5;45mNone\u001b[0m, \u001b[38;5;34m36\u001b[0m, \u001b[38;5;34m36\u001b[0m, \u001b[38;5;34m64\u001b[0m)     │             \u001b[38;5;34m0\u001b[0m │\n",
              "├─────────────────────────────────┼────────────────────────┼───────────────┤\n",
              "│ conv2d_2 (\u001b[38;5;33mConv2D\u001b[0m)               │ (\u001b[38;5;45mNone\u001b[0m, \u001b[38;5;34m34\u001b[0m, \u001b[38;5;34m34\u001b[0m, \u001b[38;5;34m128\u001b[0m)    │        \u001b[38;5;34m73,856\u001b[0m │\n",
              "├─────────────────────────────────┼────────────────────────┼───────────────┤\n",
              "│ max_pooling2d_2 (\u001b[38;5;33mMaxPooling2D\u001b[0m)  │ (\u001b[38;5;45mNone\u001b[0m, \u001b[38;5;34m17\u001b[0m, \u001b[38;5;34m17\u001b[0m, \u001b[38;5;34m128\u001b[0m)    │             \u001b[38;5;34m0\u001b[0m │\n",
              "├─────────────────────────────────┼────────────────────────┼───────────────┤\n",
              "│ conv2d_3 (\u001b[38;5;33mConv2D\u001b[0m)               │ (\u001b[38;5;45mNone\u001b[0m, \u001b[38;5;34m15\u001b[0m, \u001b[38;5;34m15\u001b[0m, \u001b[38;5;34m128\u001b[0m)    │       \u001b[38;5;34m147,584\u001b[0m │\n",
              "├─────────────────────────────────┼────────────────────────┼───────────────┤\n",
              "│ max_pooling2d_3 (\u001b[38;5;33mMaxPooling2D\u001b[0m)  │ (\u001b[38;5;45mNone\u001b[0m, \u001b[38;5;34m7\u001b[0m, \u001b[38;5;34m7\u001b[0m, \u001b[38;5;34m128\u001b[0m)      │             \u001b[38;5;34m0\u001b[0m │\n",
              "├─────────────────────────────────┼────────────────────────┼───────────────┤\n",
              "│ flatten (\u001b[38;5;33mFlatten\u001b[0m)               │ (\u001b[38;5;45mNone\u001b[0m, \u001b[38;5;34m6272\u001b[0m)           │             \u001b[38;5;34m0\u001b[0m │\n",
              "├─────────────────────────────────┼────────────────────────┼───────────────┤\n",
              "│ dense (\u001b[38;5;33mDense\u001b[0m)                   │ (\u001b[38;5;45mNone\u001b[0m, \u001b[38;5;34m512\u001b[0m)            │     \u001b[38;5;34m3,211,776\u001b[0m │\n",
              "├─────────────────────────────────┼────────────────────────┼───────────────┤\n",
              "│ dense_1 (\u001b[38;5;33mDense\u001b[0m)                 │ (\u001b[38;5;45mNone\u001b[0m, \u001b[38;5;34m1\u001b[0m)              │           \u001b[38;5;34m513\u001b[0m │\n",
              "└─────────────────────────────────┴────────────────────────┴───────────────┘\n"
            ],
            "text/html": [
              "<pre style=\"white-space:pre;overflow-x:auto;line-height:normal;font-family:Menlo,'DejaVu Sans Mono',consolas,'Courier New',monospace\">┏━━━━━━━━━━━━━━━━━━━━━━━━━━━━━━━━━┳━━━━━━━━━━━━━━━━━━━━━━━━┳━━━━━━━━━━━━━━━┓\n",
              "┃<span style=\"font-weight: bold\"> Layer (type)                    </span>┃<span style=\"font-weight: bold\"> Output Shape           </span>┃<span style=\"font-weight: bold\">       Param # </span>┃\n",
              "┡━━━━━━━━━━━━━━━━━━━━━━━━━━━━━━━━━╇━━━━━━━━━━━━━━━━━━━━━━━━╇━━━━━━━━━━━━━━━┩\n",
              "│ conv2d (<span style=\"color: #0087ff; text-decoration-color: #0087ff\">Conv2D</span>)                 │ (<span style=\"color: #00d7ff; text-decoration-color: #00d7ff\">None</span>, <span style=\"color: #00af00; text-decoration-color: #00af00\">148</span>, <span style=\"color: #00af00; text-decoration-color: #00af00\">148</span>, <span style=\"color: #00af00; text-decoration-color: #00af00\">32</span>)   │           <span style=\"color: #00af00; text-decoration-color: #00af00\">896</span> │\n",
              "├─────────────────────────────────┼────────────────────────┼───────────────┤\n",
              "│ max_pooling2d (<span style=\"color: #0087ff; text-decoration-color: #0087ff\">MaxPooling2D</span>)    │ (<span style=\"color: #00d7ff; text-decoration-color: #00d7ff\">None</span>, <span style=\"color: #00af00; text-decoration-color: #00af00\">74</span>, <span style=\"color: #00af00; text-decoration-color: #00af00\">74</span>, <span style=\"color: #00af00; text-decoration-color: #00af00\">32</span>)     │             <span style=\"color: #00af00; text-decoration-color: #00af00\">0</span> │\n",
              "├─────────────────────────────────┼────────────────────────┼───────────────┤\n",
              "│ conv2d_1 (<span style=\"color: #0087ff; text-decoration-color: #0087ff\">Conv2D</span>)               │ (<span style=\"color: #00d7ff; text-decoration-color: #00d7ff\">None</span>, <span style=\"color: #00af00; text-decoration-color: #00af00\">72</span>, <span style=\"color: #00af00; text-decoration-color: #00af00\">72</span>, <span style=\"color: #00af00; text-decoration-color: #00af00\">64</span>)     │        <span style=\"color: #00af00; text-decoration-color: #00af00\">18,496</span> │\n",
              "├─────────────────────────────────┼────────────────────────┼───────────────┤\n",
              "│ max_pooling2d_1 (<span style=\"color: #0087ff; text-decoration-color: #0087ff\">MaxPooling2D</span>)  │ (<span style=\"color: #00d7ff; text-decoration-color: #00d7ff\">None</span>, <span style=\"color: #00af00; text-decoration-color: #00af00\">36</span>, <span style=\"color: #00af00; text-decoration-color: #00af00\">36</span>, <span style=\"color: #00af00; text-decoration-color: #00af00\">64</span>)     │             <span style=\"color: #00af00; text-decoration-color: #00af00\">0</span> │\n",
              "├─────────────────────────────────┼────────────────────────┼───────────────┤\n",
              "│ conv2d_2 (<span style=\"color: #0087ff; text-decoration-color: #0087ff\">Conv2D</span>)               │ (<span style=\"color: #00d7ff; text-decoration-color: #00d7ff\">None</span>, <span style=\"color: #00af00; text-decoration-color: #00af00\">34</span>, <span style=\"color: #00af00; text-decoration-color: #00af00\">34</span>, <span style=\"color: #00af00; text-decoration-color: #00af00\">128</span>)    │        <span style=\"color: #00af00; text-decoration-color: #00af00\">73,856</span> │\n",
              "├─────────────────────────────────┼────────────────────────┼───────────────┤\n",
              "│ max_pooling2d_2 (<span style=\"color: #0087ff; text-decoration-color: #0087ff\">MaxPooling2D</span>)  │ (<span style=\"color: #00d7ff; text-decoration-color: #00d7ff\">None</span>, <span style=\"color: #00af00; text-decoration-color: #00af00\">17</span>, <span style=\"color: #00af00; text-decoration-color: #00af00\">17</span>, <span style=\"color: #00af00; text-decoration-color: #00af00\">128</span>)    │             <span style=\"color: #00af00; text-decoration-color: #00af00\">0</span> │\n",
              "├─────────────────────────────────┼────────────────────────┼───────────────┤\n",
              "│ conv2d_3 (<span style=\"color: #0087ff; text-decoration-color: #0087ff\">Conv2D</span>)               │ (<span style=\"color: #00d7ff; text-decoration-color: #00d7ff\">None</span>, <span style=\"color: #00af00; text-decoration-color: #00af00\">15</span>, <span style=\"color: #00af00; text-decoration-color: #00af00\">15</span>, <span style=\"color: #00af00; text-decoration-color: #00af00\">128</span>)    │       <span style=\"color: #00af00; text-decoration-color: #00af00\">147,584</span> │\n",
              "├─────────────────────────────────┼────────────────────────┼───────────────┤\n",
              "│ max_pooling2d_3 (<span style=\"color: #0087ff; text-decoration-color: #0087ff\">MaxPooling2D</span>)  │ (<span style=\"color: #00d7ff; text-decoration-color: #00d7ff\">None</span>, <span style=\"color: #00af00; text-decoration-color: #00af00\">7</span>, <span style=\"color: #00af00; text-decoration-color: #00af00\">7</span>, <span style=\"color: #00af00; text-decoration-color: #00af00\">128</span>)      │             <span style=\"color: #00af00; text-decoration-color: #00af00\">0</span> │\n",
              "├─────────────────────────────────┼────────────────────────┼───────────────┤\n",
              "│ flatten (<span style=\"color: #0087ff; text-decoration-color: #0087ff\">Flatten</span>)               │ (<span style=\"color: #00d7ff; text-decoration-color: #00d7ff\">None</span>, <span style=\"color: #00af00; text-decoration-color: #00af00\">6272</span>)           │             <span style=\"color: #00af00; text-decoration-color: #00af00\">0</span> │\n",
              "├─────────────────────────────────┼────────────────────────┼───────────────┤\n",
              "│ dense (<span style=\"color: #0087ff; text-decoration-color: #0087ff\">Dense</span>)                   │ (<span style=\"color: #00d7ff; text-decoration-color: #00d7ff\">None</span>, <span style=\"color: #00af00; text-decoration-color: #00af00\">512</span>)            │     <span style=\"color: #00af00; text-decoration-color: #00af00\">3,211,776</span> │\n",
              "├─────────────────────────────────┼────────────────────────┼───────────────┤\n",
              "│ dense_1 (<span style=\"color: #0087ff; text-decoration-color: #0087ff\">Dense</span>)                 │ (<span style=\"color: #00d7ff; text-decoration-color: #00d7ff\">None</span>, <span style=\"color: #00af00; text-decoration-color: #00af00\">1</span>)              │           <span style=\"color: #00af00; text-decoration-color: #00af00\">513</span> │\n",
              "└─────────────────────────────────┴────────────────────────┴───────────────┘\n",
              "</pre>\n"
            ]
          },
          "metadata": {}
        },
        {
          "output_type": "display_data",
          "data": {
            "text/plain": [
              "\u001b[1m Total params: \u001b[0m\u001b[38;5;34m3,453,121\u001b[0m (13.17 MB)\n"
            ],
            "text/html": [
              "<pre style=\"white-space:pre;overflow-x:auto;line-height:normal;font-family:Menlo,'DejaVu Sans Mono',consolas,'Courier New',monospace\"><span style=\"font-weight: bold\"> Total params: </span><span style=\"color: #00af00; text-decoration-color: #00af00\">3,453,121</span> (13.17 MB)\n",
              "</pre>\n"
            ]
          },
          "metadata": {}
        },
        {
          "output_type": "display_data",
          "data": {
            "text/plain": [
              "\u001b[1m Trainable params: \u001b[0m\u001b[38;5;34m3,453,121\u001b[0m (13.17 MB)\n"
            ],
            "text/html": [
              "<pre style=\"white-space:pre;overflow-x:auto;line-height:normal;font-family:Menlo,'DejaVu Sans Mono',consolas,'Courier New',monospace\"><span style=\"font-weight: bold\"> Trainable params: </span><span style=\"color: #00af00; text-decoration-color: #00af00\">3,453,121</span> (13.17 MB)\n",
              "</pre>\n"
            ]
          },
          "metadata": {}
        },
        {
          "output_type": "display_data",
          "data": {
            "text/plain": [
              "\u001b[1m Non-trainable params: \u001b[0m\u001b[38;5;34m0\u001b[0m (0.00 B)\n"
            ],
            "text/html": [
              "<pre style=\"white-space:pre;overflow-x:auto;line-height:normal;font-family:Menlo,'DejaVu Sans Mono',consolas,'Courier New',monospace\"><span style=\"font-weight: bold\"> Non-trainable params: </span><span style=\"color: #00af00; text-decoration-color: #00af00\">0</span> (0.00 B)\n",
              "</pre>\n"
            ]
          },
          "metadata": {}
        }
      ]
    },
    {
      "cell_type": "markdown",
      "id": "1522ccdf",
      "metadata": {
        "id": "1522ccdf"
      },
      "source": [
        "### Train the model"
      ]
    },
    {
      "cell_type": "code",
      "source": [
        " #train the model\n",
        " history = model.fit(train_generator, steps_per_epoch=100, epochs=10,validation_data=validation_generator, validation_steps=50)"
      ],
      "metadata": {
        "id": "6jCVmPvjpxVk",
        "colab": {
          "base_uri": "https://localhost:8080/"
        },
        "outputId": "2f9068c4-c37a-43b4-eef4-6efb5e83b3bf"
      },
      "id": "6jCVmPvjpxVk",
      "execution_count": null,
      "outputs": [
        {
          "output_type": "stream",
          "name": "stdout",
          "text": [
            "Epoch 1/10\n",
            "\u001b[1m100/100\u001b[0m \u001b[32m━━━━━━━━━━━━━━━━━━━━\u001b[0m\u001b[37m\u001b[0m \u001b[1m986s\u001b[0m 10s/step - accuracy: 0.5178 - loss: 0.6917 - val_accuracy: 0.5010 - val_loss: 0.6842\n",
            "Epoch 2/10\n",
            "\u001b[1m100/100\u001b[0m \u001b[32m━━━━━━━━━━━━━━━━━━━━\u001b[0m\u001b[37m\u001b[0m \u001b[1m153s\u001b[0m 2s/step - accuracy: 0.5468 - loss: 0.6806 - val_accuracy: 0.5930 - val_loss: 0.6598\n",
            "Epoch 3/10\n",
            "\u001b[1m100/100\u001b[0m \u001b[32m━━━━━━━━━━━━━━━━━━━━\u001b[0m\u001b[37m\u001b[0m \u001b[1m130s\u001b[0m 1s/step - accuracy: 0.5920 - loss: 0.6606 - val_accuracy: 0.5850 - val_loss: 0.6574\n",
            "Epoch 4/10\n",
            "\u001b[1m100/100\u001b[0m \u001b[32m━━━━━━━━━━━━━━━━━━━━\u001b[0m\u001b[37m\u001b[0m \u001b[1m140s\u001b[0m 1s/step - accuracy: 0.6268 - loss: 0.6453 - val_accuracy: 0.6370 - val_loss: 0.6283\n",
            "Epoch 5/10\n",
            "\u001b[1m100/100\u001b[0m \u001b[32m━━━━━━━━━━━━━━━━━━━━\u001b[0m\u001b[37m\u001b[0m \u001b[1m128s\u001b[0m 1s/step - accuracy: 0.6526 - loss: 0.6125 - val_accuracy: 0.6120 - val_loss: 0.6494\n",
            "Epoch 6/10\n",
            "\u001b[1m100/100\u001b[0m \u001b[32m━━━━━━━━━━━━━━━━━━━━\u001b[0m\u001b[37m\u001b[0m \u001b[1m142s\u001b[0m 1s/step - accuracy: 0.6983 - loss: 0.5806 - val_accuracy: 0.6590 - val_loss: 0.6020\n",
            "Epoch 7/10\n",
            "\u001b[1m100/100\u001b[0m \u001b[32m━━━━━━━━━━━━━━━━━━━━\u001b[0m\u001b[37m\u001b[0m \u001b[1m126s\u001b[0m 1s/step - accuracy: 0.7049 - loss: 0.5542 - val_accuracy: 0.6700 - val_loss: 0.5999\n",
            "Epoch 8/10\n",
            "\u001b[1m100/100\u001b[0m \u001b[32m━━━━━━━━━━━━━━━━━━━━\u001b[0m\u001b[37m\u001b[0m \u001b[1m142s\u001b[0m 1s/step - accuracy: 0.7258 - loss: 0.5345 - val_accuracy: 0.6840 - val_loss: 0.5839\n",
            "Epoch 9/10\n",
            "\u001b[1m100/100\u001b[0m \u001b[32m━━━━━━━━━━━━━━━━━━━━\u001b[0m\u001b[37m\u001b[0m \u001b[1m143s\u001b[0m 1s/step - accuracy: 0.7365 - loss: 0.5146 - val_accuracy: 0.6350 - val_loss: 0.6865\n",
            "Epoch 10/10\n",
            "\u001b[1m100/100\u001b[0m \u001b[32m━━━━━━━━━━━━━━━━━━━━\u001b[0m\u001b[37m\u001b[0m \u001b[1m142s\u001b[0m 1s/step - accuracy: 0.7475 - loss: 0.5121 - val_accuracy: 0.6930 - val_loss: 0.5720\n"
          ]
        }
      ]
    },
    {
      "cell_type": "markdown",
      "source": [
        "### Graphs\n",
        "<p align=\"justify\">\n",
        "\n",
        "Display the system performance – In this step we will plot the loss and accuracy function of the model over the training and validation data. The system performance will be defined within a function denoted *visualizeTheTrainingPerformance(history)* that takes as input the history (that contains the model accuracy and loss obtained on the test and training dataset at the end of each epoch).\n",
        "</p>\n"
      ],
      "metadata": {
        "id": "pFH0Y1a7p7sQ"
      },
      "id": "pFH0Y1a7p7sQ"
    },
    {
      "cell_type": "code",
      "source": [
        "def visualizeTheTrainingPerformances(history):\n",
        "  acc = history.history['accuracy']\n",
        "  val_acc = history.history['val_accuracy']\n",
        "  loss = history.history['loss']\n",
        "  val_loss = history.history['val_loss']\n",
        "  epochs = range(1, len(acc) + 1)\n",
        "  pyplot.title('Training and validation accuracy')\n",
        "  pyplot.plot(epochs, acc, 'bo', label = 'Training accuracy')\n",
        "  pyplot.plot(epochs, val_acc, 'b', label = 'Validation accuracy')\n",
        "  pyplot.legend()\n",
        "  pyplot.figure()\n",
        "  pyplot.title('Training and validation loss')\n",
        "  pyplot.plot(epochs, loss, 'bo', label = 'Training loss')\n",
        "  pyplot.plot(epochs, val_loss, 'b', label = 'Validation loss')\n",
        "  pyplot.legend\n",
        "  pyplot.savefig('accuracy_plot.png')\n",
        "  pyplot.figure()\n",
        "  pyplot.savefig('loss_plot.png')\n",
        "  pyplot.show()\n",
        "  return"
      ],
      "metadata": {
        "id": "Ctvn1Klnr8UX"
      },
      "id": "Ctvn1Klnr8UX",
      "execution_count": null,
      "outputs": []
    },
    {
      "cell_type": "code",
      "source": [
        "visualizeTheTrainingPerformances(history)"
      ],
      "metadata": {
        "colab": {
          "base_uri": "https://localhost:8080/",
          "height": 904
        },
        "id": "KlRB0_ktNlXu",
        "outputId": "b5ad2a47-a6f3-481d-bfd0-1f554bba71b5"
      },
      "id": "KlRB0_ktNlXu",
      "execution_count": null,
      "outputs": [
        {
          "output_type": "display_data",
          "data": {
            "text/plain": [
              "<Figure size 640x480 with 1 Axes>"
            ],
            "image/png": "[encoded data removed]"
          },
          "metadata": {}
        },
        {
          "output_type": "display_data",
          "data": {
            "text/plain": [
              "<Figure size 640x480 with 1 Axes>"
            ],
            "image/png": "[encoded data removed]"
          },
          "metadata": {}
        },
        {
          "output_type": "display_data",
          "data": {
            "text/plain": [
              "<Figure size 640x480 with 0 Axes>"
            ]
          },
          "metadata": {}
        }
      ]
    },
    {
      "cell_type": "code",
      "source": [
        "test_datagen = ImageDataGenerator(rescale=1./255)\n",
        "\n",
        "test_generator = test_datagen.flow_from_directory(\n",
        "    base_directory + '/test',\n",
        "    target_size=(150, 150),\n",
        "    batch_size=20,\n",
        "    class_mode='binary',\n",
        "    shuffle=False\n",
        ")\n",
        "\n",
        "# Évaluation\n",
        "loss, accuracy = model.evaluate(test_generator)\n",
        "print(f\"Test Loss: {loss:.4f}\")\n",
        "print(f\"Test Accuracy: {accuracy:.4f}\")"
      ],
      "metadata": {
        "id": "dEn98070ASVD",
        "colab": {
          "base_uri": "https://localhost:8080/"
        },
        "outputId": "31a78a48-3539-4238-926f-457518538d4d"
      },
      "id": "dEn98070ASVD",
      "execution_count": null,
      "outputs": [
        {
          "output_type": "stream",
          "name": "stdout",
          "text": [
            "Found 1000 images belonging to 2 classes.\n"
          ]
        },
        {
          "output_type": "stream",
          "name": "stderr",
          "text": [
            "/usr/local/lib/python3.11/dist-packages/keras/src/trainers/data_adapters/py_dataset_adapter.py:121: UserWarning: Your `PyDataset` class should call `super().__init__(**kwargs)` in its constructor. `**kwargs` can include `workers`, `use_multiprocessing`, `max_queue_size`. Do not pass these arguments to `fit()`, as they will be ignored.\n",
            "  self._warn_if_super_not_called()\n"
          ]
        },
        {
          "output_type": "stream",
          "name": "stdout",
          "text": [
            "\u001b[1m50/50\u001b[0m \u001b[32m━━━━━━━━━━━━━━━━━━━━\u001b[0m\u001b[37m\u001b[0m \u001b[1m285s\u001b[0m 6s/step - accuracy: 0.7531 - loss: 0.5596\n",
            "Test Loss: 0.5697\n",
            "Test Accuracy: 0.7100\n"
          ]
        }
      ]
    },
    {
      "cell_type": "code",
      "source": [
        "model.save('/content/Model_cats_dogs_small_dataset.h5')\n"
      ],
      "metadata": {
        "id": "4Mz8lL46EblN",
        "colab": {
          "base_uri": "https://localhost:8080/"
        },
        "outputId": "e05e8fee-49be-4f68-8915-d25a4fac11ea"
      },
      "id": "4Mz8lL46EblN",
      "execution_count": null,
      "outputs": [
        {
          "output_type": "stream",
          "name": "stderr",
          "text": [
            "WARNING:absl:You are saving your model as an HDF5 file via `model.save()` or `keras.saving.save_model(model)`. This file format is considered legacy. We recommend using instead the native Keras format, e.g. `model.save('my_model.keras')` or `keras.saving.save_model(model, 'my_model.keras')`. \n"
          ]
        }
      ]
    },
    {
      "cell_type": "code",
      "source": [
        "!mv /content/Model_cats_dogs_small_dataset.h5 /content/drive/MyDrive/\n"
      ],
      "metadata": {
        "id": "lV00QPdxEpAU"
      },
      "id": "lV00QPdxEpAU",
      "execution_count": null,
      "outputs": []
    },
    {
      "cell_type": "code",
      "source": [
        "from tensorflow.keras.models import load_model\n",
        "\n",
        "model = load_model('/content/drive/MyDrive/Model_cats_dogs_small_dataset.h5')\n",
        "\n",
        "import cv2\n",
        "import numpy as np\n",
        "\n",
        "def loadImages():\n",
        "    image_paths = [\n",
        "        '/content/drive/MyDrive/Kaggle_Cats_And_Dogs_Dataset_Small/test1.jpg',\n",
        "        '/content/drive/MyDrive/Kaggle_Cats_And_Dogs_Dataset_Small/test2.jpg'\n",
        "    ]\n",
        "\n",
        "    images = []\n",
        "    for path in image_paths:\n",
        "        img = cv2.imread(path)\n",
        "        img = cv2.cvtColor(img, cv2.COLOR_BGR2RGB)  # Convert BGR to RGB\n",
        "        img = cv2.resize(img, (150, 150))           # Resize to match training\n",
        "        img = img.astype('float32') / 255.0         # Normalize\n",
        "        images.append(img)\n",
        "\n",
        "    return np.array(images)"
      ],
      "metadata": {
        "id": "FWE8Uf05Epi7",
        "colab": {
          "base_uri": "https://localhost:8080/"
        },
        "outputId": "bfb9c272-da4e-40f8-9612-568592b4d264"
      },
      "id": "FWE8Uf05Epi7",
      "execution_count": null,
      "outputs": [
        {
          "output_type": "stream",
          "name": "stderr",
          "text": [
            "WARNING:absl:Compiled the loaded model, but the compiled metrics have yet to be built. `model.compile_metrics` will be empty until you train or evaluate the model.\n"
          ]
        }
      ]
    },
    {
      "cell_type": "code",
      "source": [
        "images = loadImages()\n",
        "predictions = model.predict(images)\n",
        "\n",
        "for i, p in enumerate(predictions):\n",
        "    label = \"Dog\" if p > 0.5 else \"Cat\"\n",
        "    print(f\"Image test{i+1}.jpg: {label} ({p[0]:.4f})\")"
      ],
      "metadata": {
        "id": "qQCOln5YE7BT",
        "colab": {
          "base_uri": "https://localhost:8080/"
        },
        "outputId": "a74fcfc2-cbe7-44ff-de1b-28ad1b8a89c5"
      },
      "id": "qQCOln5YE7BT",
      "execution_count": null,
      "outputs": [
        {
          "output_type": "stream",
          "name": "stdout",
          "text": [
            "\u001b[1m1/1\u001b[0m \u001b[32m━━━━━━━━━━━━━━━━━━━━\u001b[0m\u001b[37m\u001b[0m \u001b[1m0s\u001b[0m 166ms/step\n",
            "Image test1.jpg: Dog (0.5191)\n",
            "Image test2.jpg: Dog (0.9432)\n"
          ]
        }
      ]
    },
    {
      "cell_type": "code",
      "source": [
        "from tensorflow.keras.preprocessing.image import ImageDataGenerator\n",
        "\n",
        "def imagePreprocessingAugmented(base_directory, img_size=(150, 150)):\n",
        "    train_directory = base_directory + '/train'\n",
        "    validation_directory = base_directory + '/validation'\n",
        "\n",
        "    train_datagen = ImageDataGenerator(\n",
        "        rescale=1./255,\n",
        "        rotation_range=40,\n",
        "        width_shift_range=0.2,\n",
        "        height_shift_range=0.2,\n",
        "        shear_range=0.2,\n",
        "        zoom_range=0.2,\n",
        "        horizontal_flip=True,\n",
        "        fill_mode='nearest'\n",
        "    )\n",
        "\n",
        "    validation_datagen = ImageDataGenerator(rescale=1./255)\n",
        "\n",
        "    train_generator = train_datagen.flow_from_directory(\n",
        "        train_directory,\n",
        "        target_size=img_size,\n",
        "        batch_size=20,\n",
        "        class_mode='binary'\n",
        "    )\n",
        "\n",
        "    validation_generator = validation_datagen.flow_from_directory(\n",
        "        validation_directory,\n",
        "        target_size=img_size,\n",
        "        batch_size=20,\n",
        "        class_mode='binary',\n",
        "        shuffle=False\n",
        "    )\n",
        "\n",
        "    return train_generator, validation_generator\n"
      ],
      "metadata": {
        "id": "JUJUHBKvrPsG"
      },
      "id": "JUJUHBKvrPsG",
      "execution_count": null,
      "outputs": []
    },
    {
      "cell_type": "code",
      "source": [
        "train_gen_aug, val_gen_aug = imagePreprocessingAugmented(base_directory)\n",
        "tf.config.run_functions_eagerly(True)\n",
        "\n",
        "model.compile(\n",
        "    optimizer=RMSprop(learning_rate=1e-4),\n",
        "    loss='binary_crossentropy',\n",
        "    metrics=['accuracy']\n",
        ")\n",
        "\n",
        "history = model.fit(\n",
        "    train_gen_aug,\n",
        "    steps_per_epoch=100,\n",
        "    epochs=10,\n",
        "    validation_data=val_gen_aug,\n",
        "    validation_steps=50\n",
        ")"
      ],
      "metadata": {
        "id": "ljiLp4sGGquj",
        "colab": {
          "base_uri": "https://localhost:8080/"
        },
        "outputId": "e11ce7ad-bbca-4f23-a9e7-5a75a9d5b835"
      },
      "id": "ljiLp4sGGquj",
      "execution_count": null,
      "outputs": [
        {
          "output_type": "stream",
          "name": "stdout",
          "text": [
            "Found 2000 images belonging to 2 classes.\n",
            "Found 1000 images belonging to 2 classes.\n",
            "Epoch 1/10\n",
            "\u001b[1m100/100\u001b[0m \u001b[32m━━━━━━━━━━━━━━━━━━━━\u001b[0m\u001b[37m\u001b[0m \u001b[1m179s\u001b[0m 2s/step - accuracy: 0.6446 - loss: 0.6162 - val_accuracy: 0.6560 - val_loss: 0.6120\n",
            "Epoch 2/10\n",
            "\u001b[1m100/100\u001b[0m \u001b[32m━━━━━━━━━━━━━━━━━━━━\u001b[0m\u001b[37m\u001b[0m \u001b[1m215s\u001b[0m 2s/step - accuracy: 0.6843 - loss: 0.5952 - val_accuracy: 0.6670 - val_loss: 0.6065\n",
            "Epoch 3/10\n",
            "\u001b[1m100/100\u001b[0m \u001b[32m━━━━━━━━━━━━━━━━━━━━\u001b[0m\u001b[37m\u001b[0m \u001b[1m189s\u001b[0m 2s/step - accuracy: 0.6821 - loss: 0.5898 - val_accuracy: 0.6970 - val_loss: 0.5593\n",
            "Epoch 4/10\n",
            "\u001b[1m100/100\u001b[0m \u001b[32m━━━━━━━━━━━━━━━━━━━━\u001b[0m\u001b[37m\u001b[0m \u001b[1m176s\u001b[0m 2s/step - accuracy: 0.6872 - loss: 0.5771 - val_accuracy: 0.6950 - val_loss: 0.5632\n",
            "Epoch 5/10\n",
            "\u001b[1m100/100\u001b[0m \u001b[32m━━━━━━━━━━━━━━━━━━━━\u001b[0m\u001b[37m\u001b[0m \u001b[1m178s\u001b[0m 2s/step - accuracy: 0.7062 - loss: 0.5672 - val_accuracy: 0.6990 - val_loss: 0.5565\n",
            "Epoch 6/10\n",
            "\u001b[1m100/100\u001b[0m \u001b[32m━━━━━━━━━━━━━━━━━━━━\u001b[0m\u001b[37m\u001b[0m \u001b[1m175s\u001b[0m 2s/step - accuracy: 0.7144 - loss: 0.5763 - val_accuracy: 0.7100 - val_loss: 0.5474\n",
            "Epoch 7/10\n",
            "\u001b[1m100/100\u001b[0m \u001b[32m━━━━━━━━━━━━━━━━━━━━\u001b[0m\u001b[37m\u001b[0m \u001b[1m175s\u001b[0m 2s/step - accuracy: 0.7221 - loss: 0.5409 - val_accuracy: 0.7170 - val_loss: 0.5447\n",
            "Epoch 8/10\n",
            "\u001b[1m100/100\u001b[0m \u001b[32m━━━━━━━━━━━━━━━━━━━━\u001b[0m\u001b[37m\u001b[0m \u001b[1m196s\u001b[0m 2s/step - accuracy: 0.6988 - loss: 0.5549 - val_accuracy: 0.6880 - val_loss: 0.6062\n",
            "Epoch 9/10\n",
            "\u001b[1m100/100\u001b[0m \u001b[32m━━━━━━━━━━━━━━━━━━━━\u001b[0m\u001b[37m\u001b[0m \u001b[1m180s\u001b[0m 2s/step - accuracy: 0.7068 - loss: 0.5494 - val_accuracy: 0.7250 - val_loss: 0.5443\n",
            "Epoch 10/10\n",
            "\u001b[1m100/100\u001b[0m \u001b[32m━━━━━━━━━━━━━━━━━━━━\u001b[0m\u001b[37m\u001b[0m \u001b[1m197s\u001b[0m 2s/step - accuracy: 0.7338 - loss: 0.5430 - val_accuracy: 0.7370 - val_loss: 0.5197\n"
          ]
        }
      ]
    },
    {
      "cell_type": "code",
      "source": [
        "def visualizeTheTrainingPerformances_augmented(history):\n",
        "  acc = history.history['accuracy']\n",
        "  val_acc = history.history['val_accuracy']\n",
        "  loss = history.history['loss']\n",
        "  val_loss = history.history['val_loss']\n",
        "  epochs = range(1, len(acc) + 1)\n",
        "  pyplot.title('Training and validation accuracy')\n",
        "  pyplot.plot(epochs, acc, 'bo', label = 'Training accuracy')\n",
        "  pyplot.plot(epochs, val_acc, 'b', label = 'Validation accuracy')\n",
        "  pyplot.legend()\n",
        "  pyplot.figure()\n",
        "  pyplot.title('Training and validation loss')\n",
        "  pyplot.plot(epochs, loss, 'bo', label = 'Training loss')\n",
        "  pyplot.plot(epochs, val_loss, 'b', label = 'Validation loss')\n",
        "  pyplot.legend\n",
        "  pyplot.savefig('augmented_accuracy.png')\n",
        "  pyplot.figure()\n",
        "  pyplot.savefig('augmented_loss.png')\n",
        "  pyplot.show()\n",
        "  return"
      ],
      "metadata": {
        "id": "eLNf6BEkkTsQ"
      },
      "id": "eLNf6BEkkTsQ",
      "execution_count": null,
      "outputs": []
    },
    {
      "cell_type": "code",
      "source": [
        "visualizeTheTrainingPerformances_augmented(history)"
      ],
      "metadata": {
        "colab": {
          "base_uri": "https://localhost:8080/",
          "height": 904
        },
        "id": "kL9N0Q1fkJXH",
        "outputId": "b72c33f8-791b-4c21-ba28-5d5cec574edd"
      },
      "id": "kL9N0Q1fkJXH",
      "execution_count": null,
      "outputs": [
        {
          "output_type": "display_data",
          "data": {
            "text/plain": [
              "<Figure size 640x480 with 1 Axes>"
            ],
            "image/png": "[encoded data removed]"
          },
          "metadata": {}
        },
        {
          "output_type": "display_data",
          "data": {
            "text/plain": [
              "<Figure size 640x480 with 1 Axes>"
            ],
            "image/png": "[encoded data removed]"
          },
          "metadata": {}
        },
        {
          "output_type": "display_data",
          "data": {
            "text/plain": [
              "<Figure size 640x480 with 0 Axes>"
            ]
          },
          "metadata": {}
        }
      ]
    },
    {
      "cell_type": "markdown",
      "source": [
        "Sans data augmentation, le modèle apprend vite mais overfit : la précision sur l'entraînement est bien supérieure à celle sur la validation.\n",
        "Avec augmentation + dropout, l'apprentissage est plus lent, mais la précision sur la validation est plus stable, ce qui traduit une meilleure généralisation."
      ],
      "metadata": {
        "id": "-fZA81fCNoa2"
      },
      "id": "-fZA81fCNoa2"
    },
    {
      "cell_type": "code",
      "source": [
        "def defineCNNModelVGGPretrained():\n",
        "  #Load the pretrained VGG16 network in a variable called baseModel\n",
        "  #The top layers will be omitted; The input_shape will be kept to (150, 150, 3)\n",
        "  baseModel = VGG16(input_shape=(150, 150, 3), include_top=False, weights=\"imagenet\")\n",
        "\n",
        "  #Visualize the network arhitecture (list of layers)\n",
        "  print(\"Trainable parameters:\", baseModel.count_params())\n",
        "\n",
        "\n",
        "  #Freeze the baseModel convolutional layers in order not to allow training\n",
        "  for layer in baseModel.layers:\n",
        "      layer.trainable = False\n",
        "\n",
        "  baseModel.summary()\n",
        "\n",
        "  #Create the final model and add the layers from the baseModel\n",
        "  pretrained_model = models.Sequential()\n",
        "  pretrained_model.add(baseModel)\n",
        "\n",
        "\n",
        "  pretrained_model.add(layers.Flatten())\n",
        "\n",
        "\n",
        "  pretrained_model.add(layers.Dropout(0.5))\n",
        "\n",
        "\n",
        "  pretrained_model.add(layers.Dense(512, activation='relu'))\n",
        "\n",
        "\n",
        "  pretrained_model.add(layers.Dense(1, activation='sigmoid'))\n",
        "\n",
        "\n",
        "  pretrained_model.compile(optimizer=RMSprop(learning_rate=0.0001), loss='binary_crossentropy', metrics=['accuracy'])\n",
        "\n",
        "\n",
        "  return pretrained_model"
      ],
      "metadata": {
        "id": "2ONhwsLs322P"
      },
      "id": "2ONhwsLs322P",
      "execution_count": null,
      "outputs": []
    },
    {
      "cell_type": "code",
      "source": [
        "def defineCNNModelVGGFineTuning():\n",
        "    baseModel = VGG16(input_shape=(150, 150, 3), include_top=False, weights='imagenet')\n",
        "\n",
        "    set_trainable = False\n",
        "    for layer in baseModel.layers:\n",
        "        if layer.name == 'block5_conv1':\n",
        "            set_trainable = True\n",
        "        layer.trainable = set_trainable\n",
        "\n",
        "    print(\"\\nTrainable layers:\")\n",
        "    for layer in baseModel.layers:\n",
        "        print(f\"{layer.name}: {'Yes' if layer.trainable else 'No'}\")\n",
        "\n",
        "    model = models.Sequential()\n",
        "    model.add(baseModel)\n",
        "    model.add(layers.Flatten())\n",
        "    model.add(layers.Dropout(0.5))\n",
        "    model.add(layers.Dense(512, activation='relu'))\n",
        "    model.add(layers.Dense(1, activation='sigmoid'))\n",
        "\n",
        "    model.compile(\n",
        "        optimizer=RMSprop(learning_rate=1e-5),  # Learning rate plus bas\n",
        "        loss='binary_crossentropy',\n",
        "        metrics=['accuracy']\n",
        "    )\n",
        "\n",
        "    return model"
      ],
      "metadata": {
        "id": "C_PY6bFuKRnN"
      },
      "id": "C_PY6bFuKRnN",
      "execution_count": null,
      "outputs": []
    },
    {
      "cell_type": "markdown",
      "source": [
        "\n",
        "# Comparison between different models\n",
        "\n"
      ],
      "metadata": {
        "id": "n_-d-1lVS7lV"
      },
      "id": "n_-d-1lVS7lV"
    },
    {
      "cell_type": "code",
      "source": [
        "from tensorflow.keras.applications.vgg16 import preprocess_input\n",
        "from tensorflow.keras.applications.xception import preprocess_input\n",
        "from tensorflow.keras.applications.inception_v3 import preprocess_input\n",
        "from tensorflow.keras.applications.resnet50 import preprocess_input\n",
        "from tensorflow.keras.applications.mobilenet import preprocess_input\n",
        "\n",
        "from tensorflow.keras import layers, models\n",
        "from tensorflow.keras.optimizers import RMSprop\n",
        "from tensorflow.keras.applications import VGG16, Xception, InceptionV3, ResNet50, MobileNet\n",
        "\n",
        "def defineTransferModel(architecture='VGG16', input_shape=(150, 150, 3)):\n",
        "    architectures = {\n",
        "        'VGG16': VGG16,\n",
        "        'Xception': Xception,\n",
        "        'Inception': InceptionV3,\n",
        "        'ResNet50': ResNet50,\n",
        "        'MobileNet': MobileNet\n",
        "    }\n",
        "\n",
        "    if architecture not in architectures:\n",
        "        raise ValueError(f\"Architecture {architecture} not supported.\")\n",
        "\n",
        "    base_model = architectures[architecture](weights='imagenet', include_top=False, input_shape=input_shape)\n",
        "\n",
        "    for layer in base_model.layers:\n",
        "        layer.trainable = False  # freeze all layers\n",
        "\n",
        "    model = models.Sequential([\n",
        "        base_model,\n",
        "        layers.GlobalAveragePooling2D(),\n",
        "        layers.Dropout(0.5),\n",
        "        layers.Dense(512, activation='relu'),\n",
        "        layers.Dense(1, activation='sigmoid')\n",
        "    ])\n",
        "\n",
        "    model.compile(\n",
        "        optimizer=RMSprop(learning_rate=1e-4),\n",
        "        loss='binary_crossentropy',\n",
        "        metrics=['accuracy']\n",
        "    )\n",
        "\n",
        "    return model"
      ],
      "metadata": {
        "id": "2CktVICMMvX1"
      },
      "id": "2CktVICMMvX1",
      "execution_count": null,
      "outputs": []
    },
    {
      "cell_type": "code",
      "source": [
        "for arch in ['VGG16', 'Xception', 'Inception', 'ResNet50', 'MobileNet']:\n",
        "    print(f\"\\nTraining model with architecture: {arch}\")\n",
        "    model = defineTransferModel(arch)\n",
        "    history = model.fit(train_generator, epochs=10, validation_data=validation_generator)\n",
        "    val_acc = history.history['val_accuracy'][-1]\n",
        "    print(f\"Validation accuracy for {arch}: {val_acc:.4f}\")"
      ],
      "metadata": {
        "id": "sfNA0Di0NMEt",
        "colab": {
          "base_uri": "https://localhost:8080/"
        },
        "outputId": "9d8e1f69-a263-49fd-bb1c-292993f15651"
      },
      "id": "sfNA0Di0NMEt",
      "execution_count": null,
      "outputs": [
        {
          "output_type": "stream",
          "name": "stdout",
          "text": [
            "\n",
            "Training model with architecture: VGG16\n",
            "Downloading data from https://storage.googleapis.com/tensorflow/keras-applications/vgg16/vgg16_weights_tf_dim_ordering_tf_kernels_notop.h5\n",
            "\u001b[1m58889256/58889256\u001b[0m \u001b[32m━━━━━━━━━━━━━━━━━━━━\u001b[0m\u001b[37m\u001b[0m \u001b[1m2s\u001b[0m 0us/step\n",
            "Epoch 1/10\n",
            "    183/Unknown \u001b[1m3570s\u001b[0m 20s/step - accuracy: 0.5786 - loss: 0.6720"
          ]
        }
      ]
    }
  ],
  "metadata": {
    "colab": {
      "provenance": []
    },
    "language_info": {
      "name": "python"
    },
    "kernelspec": {
      "name": "python3",
      "display_name": "Python 3"
    }
  },
  "nbformat": 4,
  "nbformat_minor": 5
}